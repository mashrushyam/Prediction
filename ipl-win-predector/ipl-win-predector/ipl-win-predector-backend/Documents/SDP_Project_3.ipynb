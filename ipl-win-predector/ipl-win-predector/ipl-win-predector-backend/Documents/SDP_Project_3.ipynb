{
 "cells": [
  {
   "cell_type": "code",
   "execution_count": 1,
   "id": "aabd119a",
   "metadata": {},
   "outputs": [],
   "source": [
    "import pandas as pd\n",
    "import numpy as np"
   ]
  },
  {
   "cell_type": "code",
   "execution_count": 2,
   "id": "e537dfa7",
   "metadata": {},
   "outputs": [
    {
     "ename": "FileNotFoundError",
     "evalue": "[Errno 2] No such file or directory: 'C:\\\\Users\\\\Shyam Mashru\\\\OneDrive\\\\Desktop\\\\SDP_Project\\\\IPL_Final_Data.csv'",
     "output_type": "error",
     "traceback": [
      "\u001b[1;31m---------------------------------------------------------------------------\u001b[0m",
      "\u001b[1;31mFileNotFoundError\u001b[0m                         Traceback (most recent call last)",
      "Cell \u001b[1;32mIn[2], line 1\u001b[0m\n\u001b[1;32m----> 1\u001b[0m file1 \u001b[38;5;241m=\u001b[39m pd\u001b[38;5;241m.\u001b[39mread_csv(\u001b[38;5;124m\"\u001b[39m\u001b[38;5;124mC:\u001b[39m\u001b[38;5;130;01m\\\\\u001b[39;00m\u001b[38;5;124mUsers\u001b[39m\u001b[38;5;130;01m\\\\\u001b[39;00m\u001b[38;5;124mShyam Mashru\u001b[39m\u001b[38;5;130;01m\\\\\u001b[39;00m\u001b[38;5;124mOneDrive\u001b[39m\u001b[38;5;130;01m\\\\\u001b[39;00m\u001b[38;5;124mDesktop\u001b[39m\u001b[38;5;130;01m\\\\\u001b[39;00m\u001b[38;5;124mSDP_Project\u001b[39m\u001b[38;5;130;01m\\\\\u001b[39;00m\u001b[38;5;124mIPL_Final_Data.csv\u001b[39m\u001b[38;5;124m\"\u001b[39m)\n\u001b[0;32m      2\u001b[0m file2 \u001b[38;5;241m=\u001b[39m pd\u001b[38;5;241m.\u001b[39mread_csv(\u001b[38;5;124m\"\u001b[39m\u001b[38;5;124mC:\u001b[39m\u001b[38;5;130;01m\\\\\u001b[39;00m\u001b[38;5;124mUsers\u001b[39m\u001b[38;5;130;01m\\\\\u001b[39;00m\u001b[38;5;124mShyam Mashru\u001b[39m\u001b[38;5;130;01m\\\\\u001b[39;00m\u001b[38;5;124mOneDrive\u001b[39m\u001b[38;5;130;01m\\\\\u001b[39;00m\u001b[38;5;124mDesktop\u001b[39m\u001b[38;5;130;01m\\\\\u001b[39;00m\u001b[38;5;124mSDP_Project\u001b[39m\u001b[38;5;130;01m\\\\\u001b[39;00m\u001b[38;5;124mIPL_Ball_By_Ball_Updated.csv\u001b[39m\u001b[38;5;124m\"\u001b[39m)\n",
      "File \u001b[1;32m~\\anaconda3\\Lib\\site-packages\\pandas\\io\\parsers\\readers.py:912\u001b[0m, in \u001b[0;36mread_csv\u001b[1;34m(filepath_or_buffer, sep, delimiter, header, names, index_col, usecols, dtype, engine, converters, true_values, false_values, skipinitialspace, skiprows, skipfooter, nrows, na_values, keep_default_na, na_filter, verbose, skip_blank_lines, parse_dates, infer_datetime_format, keep_date_col, date_parser, date_format, dayfirst, cache_dates, iterator, chunksize, compression, thousands, decimal, lineterminator, quotechar, quoting, doublequote, escapechar, comment, encoding, encoding_errors, dialect, on_bad_lines, delim_whitespace, low_memory, memory_map, float_precision, storage_options, dtype_backend)\u001b[0m\n\u001b[0;32m    899\u001b[0m kwds_defaults \u001b[38;5;241m=\u001b[39m _refine_defaults_read(\n\u001b[0;32m    900\u001b[0m     dialect,\n\u001b[0;32m    901\u001b[0m     delimiter,\n\u001b[1;32m   (...)\u001b[0m\n\u001b[0;32m    908\u001b[0m     dtype_backend\u001b[38;5;241m=\u001b[39mdtype_backend,\n\u001b[0;32m    909\u001b[0m )\n\u001b[0;32m    910\u001b[0m kwds\u001b[38;5;241m.\u001b[39mupdate(kwds_defaults)\n\u001b[1;32m--> 912\u001b[0m \u001b[38;5;28;01mreturn\u001b[39;00m _read(filepath_or_buffer, kwds)\n",
      "File \u001b[1;32m~\\anaconda3\\Lib\\site-packages\\pandas\\io\\parsers\\readers.py:577\u001b[0m, in \u001b[0;36m_read\u001b[1;34m(filepath_or_buffer, kwds)\u001b[0m\n\u001b[0;32m    574\u001b[0m _validate_names(kwds\u001b[38;5;241m.\u001b[39mget(\u001b[38;5;124m\"\u001b[39m\u001b[38;5;124mnames\u001b[39m\u001b[38;5;124m\"\u001b[39m, \u001b[38;5;28;01mNone\u001b[39;00m))\n\u001b[0;32m    576\u001b[0m \u001b[38;5;66;03m# Create the parser.\u001b[39;00m\n\u001b[1;32m--> 577\u001b[0m parser \u001b[38;5;241m=\u001b[39m TextFileReader(filepath_or_buffer, \u001b[38;5;241m*\u001b[39m\u001b[38;5;241m*\u001b[39mkwds)\n\u001b[0;32m    579\u001b[0m \u001b[38;5;28;01mif\u001b[39;00m chunksize \u001b[38;5;129;01mor\u001b[39;00m iterator:\n\u001b[0;32m    580\u001b[0m     \u001b[38;5;28;01mreturn\u001b[39;00m parser\n",
      "File \u001b[1;32m~\\anaconda3\\Lib\\site-packages\\pandas\\io\\parsers\\readers.py:1407\u001b[0m, in \u001b[0;36mTextFileReader.__init__\u001b[1;34m(self, f, engine, **kwds)\u001b[0m\n\u001b[0;32m   1404\u001b[0m     \u001b[38;5;28mself\u001b[39m\u001b[38;5;241m.\u001b[39moptions[\u001b[38;5;124m\"\u001b[39m\u001b[38;5;124mhas_index_names\u001b[39m\u001b[38;5;124m\"\u001b[39m] \u001b[38;5;241m=\u001b[39m kwds[\u001b[38;5;124m\"\u001b[39m\u001b[38;5;124mhas_index_names\u001b[39m\u001b[38;5;124m\"\u001b[39m]\n\u001b[0;32m   1406\u001b[0m \u001b[38;5;28mself\u001b[39m\u001b[38;5;241m.\u001b[39mhandles: IOHandles \u001b[38;5;241m|\u001b[39m \u001b[38;5;28;01mNone\u001b[39;00m \u001b[38;5;241m=\u001b[39m \u001b[38;5;28;01mNone\u001b[39;00m\n\u001b[1;32m-> 1407\u001b[0m \u001b[38;5;28mself\u001b[39m\u001b[38;5;241m.\u001b[39m_engine \u001b[38;5;241m=\u001b[39m \u001b[38;5;28mself\u001b[39m\u001b[38;5;241m.\u001b[39m_make_engine(f, \u001b[38;5;28mself\u001b[39m\u001b[38;5;241m.\u001b[39mengine)\n",
      "File \u001b[1;32m~\\anaconda3\\Lib\\site-packages\\pandas\\io\\parsers\\readers.py:1661\u001b[0m, in \u001b[0;36mTextFileReader._make_engine\u001b[1;34m(self, f, engine)\u001b[0m\n\u001b[0;32m   1659\u001b[0m     \u001b[38;5;28;01mif\u001b[39;00m \u001b[38;5;124m\"\u001b[39m\u001b[38;5;124mb\u001b[39m\u001b[38;5;124m\"\u001b[39m \u001b[38;5;129;01mnot\u001b[39;00m \u001b[38;5;129;01min\u001b[39;00m mode:\n\u001b[0;32m   1660\u001b[0m         mode \u001b[38;5;241m+\u001b[39m\u001b[38;5;241m=\u001b[39m \u001b[38;5;124m\"\u001b[39m\u001b[38;5;124mb\u001b[39m\u001b[38;5;124m\"\u001b[39m\n\u001b[1;32m-> 1661\u001b[0m \u001b[38;5;28mself\u001b[39m\u001b[38;5;241m.\u001b[39mhandles \u001b[38;5;241m=\u001b[39m get_handle(\n\u001b[0;32m   1662\u001b[0m     f,\n\u001b[0;32m   1663\u001b[0m     mode,\n\u001b[0;32m   1664\u001b[0m     encoding\u001b[38;5;241m=\u001b[39m\u001b[38;5;28mself\u001b[39m\u001b[38;5;241m.\u001b[39moptions\u001b[38;5;241m.\u001b[39mget(\u001b[38;5;124m\"\u001b[39m\u001b[38;5;124mencoding\u001b[39m\u001b[38;5;124m\"\u001b[39m, \u001b[38;5;28;01mNone\u001b[39;00m),\n\u001b[0;32m   1665\u001b[0m     compression\u001b[38;5;241m=\u001b[39m\u001b[38;5;28mself\u001b[39m\u001b[38;5;241m.\u001b[39moptions\u001b[38;5;241m.\u001b[39mget(\u001b[38;5;124m\"\u001b[39m\u001b[38;5;124mcompression\u001b[39m\u001b[38;5;124m\"\u001b[39m, \u001b[38;5;28;01mNone\u001b[39;00m),\n\u001b[0;32m   1666\u001b[0m     memory_map\u001b[38;5;241m=\u001b[39m\u001b[38;5;28mself\u001b[39m\u001b[38;5;241m.\u001b[39moptions\u001b[38;5;241m.\u001b[39mget(\u001b[38;5;124m\"\u001b[39m\u001b[38;5;124mmemory_map\u001b[39m\u001b[38;5;124m\"\u001b[39m, \u001b[38;5;28;01mFalse\u001b[39;00m),\n\u001b[0;32m   1667\u001b[0m     is_text\u001b[38;5;241m=\u001b[39mis_text,\n\u001b[0;32m   1668\u001b[0m     errors\u001b[38;5;241m=\u001b[39m\u001b[38;5;28mself\u001b[39m\u001b[38;5;241m.\u001b[39moptions\u001b[38;5;241m.\u001b[39mget(\u001b[38;5;124m\"\u001b[39m\u001b[38;5;124mencoding_errors\u001b[39m\u001b[38;5;124m\"\u001b[39m, \u001b[38;5;124m\"\u001b[39m\u001b[38;5;124mstrict\u001b[39m\u001b[38;5;124m\"\u001b[39m),\n\u001b[0;32m   1669\u001b[0m     storage_options\u001b[38;5;241m=\u001b[39m\u001b[38;5;28mself\u001b[39m\u001b[38;5;241m.\u001b[39moptions\u001b[38;5;241m.\u001b[39mget(\u001b[38;5;124m\"\u001b[39m\u001b[38;5;124mstorage_options\u001b[39m\u001b[38;5;124m\"\u001b[39m, \u001b[38;5;28;01mNone\u001b[39;00m),\n\u001b[0;32m   1670\u001b[0m )\n\u001b[0;32m   1671\u001b[0m \u001b[38;5;28;01massert\u001b[39;00m \u001b[38;5;28mself\u001b[39m\u001b[38;5;241m.\u001b[39mhandles \u001b[38;5;129;01mis\u001b[39;00m \u001b[38;5;129;01mnot\u001b[39;00m \u001b[38;5;28;01mNone\u001b[39;00m\n\u001b[0;32m   1672\u001b[0m f \u001b[38;5;241m=\u001b[39m \u001b[38;5;28mself\u001b[39m\u001b[38;5;241m.\u001b[39mhandles\u001b[38;5;241m.\u001b[39mhandle\n",
      "File \u001b[1;32m~\\anaconda3\\Lib\\site-packages\\pandas\\io\\common.py:859\u001b[0m, in \u001b[0;36mget_handle\u001b[1;34m(path_or_buf, mode, encoding, compression, memory_map, is_text, errors, storage_options)\u001b[0m\n\u001b[0;32m    854\u001b[0m \u001b[38;5;28;01melif\u001b[39;00m \u001b[38;5;28misinstance\u001b[39m(handle, \u001b[38;5;28mstr\u001b[39m):\n\u001b[0;32m    855\u001b[0m     \u001b[38;5;66;03m# Check whether the filename is to be opened in binary mode.\u001b[39;00m\n\u001b[0;32m    856\u001b[0m     \u001b[38;5;66;03m# Binary mode does not support 'encoding' and 'newline'.\u001b[39;00m\n\u001b[0;32m    857\u001b[0m     \u001b[38;5;28;01mif\u001b[39;00m ioargs\u001b[38;5;241m.\u001b[39mencoding \u001b[38;5;129;01mand\u001b[39;00m \u001b[38;5;124m\"\u001b[39m\u001b[38;5;124mb\u001b[39m\u001b[38;5;124m\"\u001b[39m \u001b[38;5;129;01mnot\u001b[39;00m \u001b[38;5;129;01min\u001b[39;00m ioargs\u001b[38;5;241m.\u001b[39mmode:\n\u001b[0;32m    858\u001b[0m         \u001b[38;5;66;03m# Encoding\u001b[39;00m\n\u001b[1;32m--> 859\u001b[0m         handle \u001b[38;5;241m=\u001b[39m \u001b[38;5;28mopen\u001b[39m(\n\u001b[0;32m    860\u001b[0m             handle,\n\u001b[0;32m    861\u001b[0m             ioargs\u001b[38;5;241m.\u001b[39mmode,\n\u001b[0;32m    862\u001b[0m             encoding\u001b[38;5;241m=\u001b[39mioargs\u001b[38;5;241m.\u001b[39mencoding,\n\u001b[0;32m    863\u001b[0m             errors\u001b[38;5;241m=\u001b[39merrors,\n\u001b[0;32m    864\u001b[0m             newline\u001b[38;5;241m=\u001b[39m\u001b[38;5;124m\"\u001b[39m\u001b[38;5;124m\"\u001b[39m,\n\u001b[0;32m    865\u001b[0m         )\n\u001b[0;32m    866\u001b[0m     \u001b[38;5;28;01melse\u001b[39;00m:\n\u001b[0;32m    867\u001b[0m         \u001b[38;5;66;03m# Binary mode\u001b[39;00m\n\u001b[0;32m    868\u001b[0m         handle \u001b[38;5;241m=\u001b[39m \u001b[38;5;28mopen\u001b[39m(handle, ioargs\u001b[38;5;241m.\u001b[39mmode)\n",
      "\u001b[1;31mFileNotFoundError\u001b[0m: [Errno 2] No such file or directory: 'C:\\\\Users\\\\Shyam Mashru\\\\OneDrive\\\\Desktop\\\\SDP_Project\\\\IPL_Final_Data.csv'"
     ]
    }
   ],
   "source": [
    "file1 = pd.read_csv(\"C:\\\\Users\\\\Shyam Mashru\\\\OneDrive\\\\Desktop\\\\SDP_Project\\\\IPL_Final_Data.csv\")\n",
    "file2 = pd.read_csv(\"C:\\\\Users\\\\Shyam Mashru\\\\OneDrive\\\\Desktop\\\\SDP_Project\\\\IPL_Ball_By_Ball_Updated.csv\")"
   ]
  },
  {
   "cell_type": "code",
   "execution_count": null,
   "id": "273512ca",
   "metadata": {},
   "outputs": [],
   "source": [
    "file1"
   ]
  },
  {
   "cell_type": "code",
   "execution_count": null,
   "id": "38c1e165",
   "metadata": {},
   "outputs": [],
   "source": [
    "file2"
   ]
  },
  {
   "cell_type": "code",
   "execution_count": null,
   "id": "24293f0e",
   "metadata": {},
   "outputs": [],
   "source": [
    "total_score = file2.groupby(['ID','innings']).sum()['total_run'].reset_index()\n",
    "total_score"
   ]
  },
  {
   "cell_type": "code",
   "execution_count": null,
   "id": "554dcc5b",
   "metadata": {},
   "outputs": [],
   "source": [
    "total_score_first = total_score[total_score['innings']==1]\n",
    "total_score_first"
   ]
  },
  {
   "cell_type": "code",
   "execution_count": null,
   "id": "32d3b576",
   "metadata": {},
   "outputs": [],
   "source": [
    "match = pd.merge(file1,total_score_first[['ID','total_run']],left_on='ID',right_on='ID',how='left')\n",
    "match.rename({'total_run':'FirstInningsRuns'},axis=1,inplace=True)\n",
    "match.columns"
   ]
  },
  {
   "cell_type": "code",
   "execution_count": null,
   "id": "05045aba",
   "metadata": {},
   "outputs": [],
   "source": [
    "match = match[['ID', 'Team1', 'Team2', 'City', 'TossWinner','TossDecision',\n",
    "       'WinningTeam','HomeGround','FirstInningsRuns']]"
   ]
  },
  {
   "cell_type": "code",
   "execution_count": null,
   "id": "1660ac5f",
   "metadata": {},
   "outputs": [],
   "source": [
    "delivery = match.merge(file2,on='ID')"
   ]
  },
  {
   "cell_type": "code",
   "execution_count": null,
   "id": "c2fbe51d",
   "metadata": {},
   "outputs": [],
   "source": [
    "delivery.to_csv(\"C:\\\\Users\\\\Shyam Mashru\\\\OneDrive\\\\Desktop\\\\SDP_Project\\\\a.csv\",index=False)"
   ]
  },
  {
   "cell_type": "code",
   "execution_count": null,
   "id": "da3bea0d",
   "metadata": {},
   "outputs": [],
   "source": [
    "delivery_second = delivery[delivery['innings']==2]\n",
    "delivery_second"
   ]
  },
  {
   "cell_type": "code",
   "execution_count": null,
   "id": "01e1c951",
   "metadata": {},
   "outputs": [],
   "source": [
    "delivery_second['CurrentScore'] = delivery_second.groupby('ID')['total_run'].cumsum()\n",
    "delivery_second"
   ]
  },
  {
   "cell_type": "code",
   "execution_count": null,
   "id": "6e706c89",
   "metadata": {},
   "outputs": [],
   "source": [
    "delivery_second['RunsLeft'] = delivery_second['FirstInningsRuns'] + 1 - delivery_second['CurrentScore'] \n",
    "delivery_second"
   ]
  },
  {
   "cell_type": "code",
   "execution_count": null,
   "id": "d1cb511d",
   "metadata": {},
   "outputs": [],
   "source": [
    "delivery_second['BallsLeft'] = 120 - (delivery_second['overs']*6 + delivery_second['ballnumber'])\n",
    "delivery_second"
   ]
  },
  {
   "cell_type": "code",
   "execution_count": null,
   "id": "45aa2bae",
   "metadata": {},
   "outputs": [],
   "source": [
    "delivery_second['isWicketDelivery'] = delivery_second['isWicketDelivery'].astype(int)\n",
    "wickets = delivery_second.groupby('ID')['isWicketDelivery'].cumsum().values\n",
    "delivery_second['WicketsLeft'] = 10 - wickets\n",
    "delivery_second"
   ]
  },
  {
   "cell_type": "code",
   "execution_count": null,
   "id": "944581a8",
   "metadata": {},
   "outputs": [],
   "source": [
    "delivery_second['CurrentRunRate'] = (delivery_second['CurrentScore']*6)/(120-delivery_second['BallsLeft'])\n",
    "delivery_second"
   ]
  },
  {
   "cell_type": "code",
   "execution_count": null,
   "id": "21bb8867",
   "metadata": {},
   "outputs": [],
   "source": [
    "delivery_second['RequiredRunRate'] = (delivery_second['RunsLeft']*6)/delivery_second['BallsLeft']\n",
    "delivery_second"
   ]
  },
  {
   "cell_type": "code",
   "execution_count": null,
   "id": "0c7d7f05",
   "metadata": {},
   "outputs": [],
   "source": [
    "def result(row):\n",
    "    return 1 if row['BattingTeam'] == row['WinningTeam'] else 0"
   ]
  },
  {
   "cell_type": "code",
   "execution_count": null,
   "id": "c34ff41d",
   "metadata": {},
   "outputs": [],
   "source": [
    "delivery_second['Result'] = delivery_second.apply(result,axis=1)\n",
    "delivery_second"
   ]
  },
  {
   "cell_type": "code",
   "execution_count": null,
   "id": "43a684bb",
   "metadata": {},
   "outputs": [],
   "source": [
    "delivery_second.columns"
   ]
  },
  {
   "cell_type": "code",
   "execution_count": null,
   "id": "e12929c7",
   "metadata": {},
   "outputs": [],
   "source": [
    "final_second = delivery_second[['City','HomeGround','BattingTeam','BowlingTeam','FirstInningsRuns', 'CurrentScore', 'RunsLeft',\n",
    "       'BallsLeft', 'WicketsLeft', 'CurrentRunRate',\n",
    "       'RequiredRunRate', 'Result']]\n",
    "final_second"
   ]
  },
  {
   "cell_type": "code",
   "execution_count": null,
   "id": "98729ccb",
   "metadata": {},
   "outputs": [],
   "source": [
    "final_second = final_second.sample(final_second.shape[0])"
   ]
  },
  {
   "cell_type": "code",
   "execution_count": null,
   "id": "eef74431",
   "metadata": {},
   "outputs": [],
   "source": [
    "final_second.sample()"
   ]
  },
  {
   "cell_type": "code",
   "execution_count": null,
   "id": "d04196f6",
   "metadata": {},
   "outputs": [],
   "source": [
    "final_second.dropna(inplace=True)"
   ]
  },
  {
   "cell_type": "code",
   "execution_count": null,
   "id": "8236009a",
   "metadata": {},
   "outputs": [],
   "source": [
    "final_second = final_second[final_second['BallsLeft']!=0]"
   ]
  },
  {
   "cell_type": "code",
   "execution_count": null,
   "id": "cd600f3f",
   "metadata": {},
   "outputs": [],
   "source": [
    "from sklearn.preprocessing import LabelEncoder\n",
    "\n",
    "label_encoder = LabelEncoder()\n",
    "\n",
    "encode_columns = ['City','BattingTeam','BowlingTeam','HomeGround']\n",
    "                  \n",
    "for column in encode_columns:\n",
    "                  final_second[column] = label_encoder.fit_transform(final_second[column])\n",
    "\n",
    "final_second"
   ]
  },
  {
   "cell_type": "code",
   "execution_count": null,
   "id": "182580ac",
   "metadata": {},
   "outputs": [],
   "source": [
    "columns = final_second.columns.tolist()\n",
    "if 'Result' in columns:\n",
    "    columns.remove('Result')\n",
    "columns"
   ]
  },
  {
   "cell_type": "code",
   "execution_count": null,
   "id": "282da4f7",
   "metadata": {},
   "outputs": [],
   "source": [
    "X = final_second.drop(columns=['Result'])\n",
    "y = final_second['Result']"
   ]
  },
  {
   "cell_type": "code",
   "execution_count": null,
   "id": "53230fe2",
   "metadata": {},
   "outputs": [],
   "source": [
    " from sklearn.model_selection import train_test_split\n",
    " X_train, X_test, y_train, y_test = train_test_split(X, y, test_size=0.4,random_state=10000)"
   ]
  },
  {
   "cell_type": "code",
   "execution_count": null,
   "id": "7ad88130",
   "metadata": {},
   "outputs": [],
   "source": [
    "from sklearn.linear_model import LogisticRegression\n",
    "from sklearn.ensemble import RandomForestClassifier\n",
    "from sklearn.tree import DecisionTreeClassifier\n",
    "from sklearn.svm import SVC\n",
    "from xgboost import XGBClassifier\n",
    "from sklearn.naive_bayes import GaussianNB\n",
    "from sklearn.neighbors import KNeighborsClassifier"
   ]
  },
  {
   "cell_type": "code",
   "execution_count": null,
   "id": "b92ec264",
   "metadata": {},
   "outputs": [],
   "source": [
    "model = LogisticRegression()\n",
    "#model = RandomForestClassifier()\n",
    "#model = DecisionTreeClassifier(random_state=42)\n",
    "#model = SVC(kernel='linear', C=1)\n",
    "#model = XGBClassifier()\n",
    "#model = GaussianNB()\n",
    "#model = SVC(kernel='rbf', random_state=0)\n",
    "#model = KNeighborsClassifier(n_neighbors=5,metric='minkowski',p=2)"
   ]
  },
  {
   "cell_type": "code",
   "execution_count": null,
   "id": "94f83065",
   "metadata": {},
   "outputs": [],
   "source": [
    "model.fit(X_train,y_train)"
   ]
  },
  {
   "cell_type": "code",
   "execution_count": null,
   "id": "d68b0fca",
   "metadata": {},
   "outputs": [],
   "source": [
    "y_pred = model.predict(X_test)"
   ]
  },
  {
   "cell_type": "code",
   "execution_count": null,
   "id": "9516ab8c",
   "metadata": {},
   "outputs": [],
   "source": [
    "from sklearn.metrics import accuracy_score, confusion_matrix, classification_report\n",
    "accuracy_score(y_test,y_pred)"
   ]
  },
  {
   "cell_type": "code",
   "execution_count": null,
   "id": "ab0bb630",
   "metadata": {},
   "outputs": [],
   "source": [
    "conf_matrix = confusion_matrix(y_test, y_pred)\n",
    "classification_rep = classification_report(y_test, y_pred)"
   ]
  },
  {
   "cell_type": "code",
   "execution_count": null,
   "id": "39c7c94b",
   "metadata": {},
   "outputs": [],
   "source": [
    "print('Confusion Matrix:')\n",
    "print(conf_matrix)\n",
    "print('Classification Report:')\n",
    "print(classification_rep)"
   ]
  },
  {
   "cell_type": "code",
   "execution_count": null,
   "id": "9afbdfc1",
   "metadata": {},
   "outputs": [],
   "source": [
    "import pickle\n",
    "pickle.dump(model,open('C:\\\\Users\\\\Shyam Mashru\\\\OneDrive\\\\Desktop\\\\SDP_Project\\\\pipe2.pkl','wb'))"
   ]
  },
  {
   "cell_type": "code",
   "execution_count": null,
   "id": "abb1c557",
   "metadata": {},
   "outputs": [],
   "source": [
    "model.predict_proba(X_test)[22]"
   ]
  },
  {
   "cell_type": "code",
   "execution_count": null,
   "id": "2524b8f8",
   "metadata": {},
   "outputs": [],
   "source": [
    "instance_26 = X_test.iloc[22]\n",
    "print(instance_26)"
   ]
  },
  {
   "cell_type": "code",
   "execution_count": null,
   "id": "66ee6962",
   "metadata": {},
   "outputs": [],
   "source": []
  }
 ],
 "metadata": {
  "kernelspec": {
   "display_name": "Python 3 (ipykernel)",
   "language": "python",
   "name": "python3"
  },
  "language_info": {
   "codemirror_mode": {
    "name": "ipython",
    "version": 3
   },
   "file_extension": ".py",
   "mimetype": "text/x-python",
   "name": "python",
   "nbconvert_exporter": "python",
   "pygments_lexer": "ipython3",
   "version": "3.11.5"
  }
 },
 "nbformat": 4,
 "nbformat_minor": 5
}
